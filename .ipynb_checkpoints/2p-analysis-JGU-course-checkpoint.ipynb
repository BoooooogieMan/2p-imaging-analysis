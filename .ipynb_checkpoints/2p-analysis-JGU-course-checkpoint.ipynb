{
 "cells": [
  {
   "cell_type": "markdown",
   "id": "c73cb545-b42b-405c-869b-2b4b72a20f12",
   "metadata": {
    "tags": []
   },
   "source": [
    "# Analysis of 2-photon calcium imaging data\n",
    "\n",
    "This part of the course will guid you through the analysis of 2 Photon calcium imaging data.\n",
    "Before, you recorded the response of a specific neuron type (e.g, Tm9-lexA>>lexAop-GCaMP6f) while the fly was shown some visual stimulali (e.g. sine wave gratings of 5 different luminances). Now we want to analyse this data and visualize responses of individual neurons. The following steps are necessary:\n",
    "\n",
    "1. Movement correction\n",
    "2. Pre-analysis (Folder structure)\n",
    "3. Region of Intrest (ROI) selection\n",
    "4. Background subtraction\n",
    "5. df/f calculation and trial average\n",
    "6. SNR (Signal to Noise Ratio) and Reliability calculation\n",
    "7. Stimulus-dependent analysis\n",
    "8. Saving analysed data\n",
    "9. Data visualization across flies"
   ]
  },
  {
   "cell_type": "markdown",
   "id": "6dc83083-e6c4-4282-97e2-99e2a7cdb062",
   "metadata": {
    "tags": []
   },
   "source": [
    "### 1. Movement correction\n",
    "\n",
    "Movement correction is important to get rid of small movements of the brain and stabilize the recording in X and Y dimentions.\n",
    "During this process, the single image frames (e.g., TIFF files) from the microscope are aligned and collected into one TIFF stack, which is then used for further analysis.\n",
    "\n",
    "There are several option to correct for motion (see README.md file of the repository), including the usage of the well-known software IMAGEJ/FIJI.\n",
    "\n",
    "If you wanna try yourself, you could use an ImageJ macro with the plugin *Image Stabilizer*, which is based on the Lucas-Kanade optical flow algorithm. This algorithm estimates geometrical transformation based on spacial intensity information of two consecutive images and predicts the best alignment between them.\n",
    "\n",
    "To give you an example of the effect of Motion alignment please follow this link: https://www.cs.cmu.edu/~kangli/code/Image_Stabilizer.html\n",
    "\n",
    "\n",
    "#### How to do it yourself:\n",
    "\n",
    "- Open ImageJ\n",
    "- Open the macro with the file **Batch_imagestabilizer.ijm** located in the imagej_motion_alignment folder of the repo.\n",
    "- Check within the macro the data path to save the aligned TIFF stack:\n",
    "    `saveAs(\"TIFF... \", \"path_to_save\"+replace(subdir,\"/\",\"\")+\"_Ch2_reg.tif\");`\n",
    "- Run the macro with Strg+R (or go to Macros -> Run Macro or just Run, depending on which version you have)\n",
    "- Now select a folder of a single fly that has all the TSeries inside\n",
    "- When it is finished, the aligned files are in the location you specified before and can be sorted to the corresponding TSeries. (The files need to be sorted first before the next fly can be aligned)"
   ]
  },
  {
   "cell_type": "markdown",
   "id": "3c2a597f-6807-4290-804b-ec5bdd462e5e",
   "metadata": {
    "tags": []
   },
   "source": [
    "### 2. Pre-analysis (Folder structure)\n",
    "\n",
    "Before we can start with the next step of the analysis, we need to make sure that our data is in the right location.\n",
    "Please create the following folder structure:\n",
    "\n",
    "    1. Chosen name for the experimental folder (e.g \"Tm9_recordings\" or \"Tm9_luminances\")\n",
    "        1.1. \"rawData\" (fixed folder name)\n",
    "            1.1.1 \"alignedData\" (fixed folder name)\n",
    "                1.1.1.1 Folder with date+userID+flyID (e.g. \"2021_09_30_seb_fly1\", from the microscope computer)\n",
    "                    1.1.1.1.1 TSeries (subfolder with recorded TIFFs)\n",
    "                        1.1.1.1.1.1 Motion aligned TIFF stack (generated after motion correction)\n",
    "                        1.1.1.1.1.2 Corresponding stim_output file to this TSeries (e.g.\"_stimulus_output_DATE_TIME\")\n",
    "\n",
    "        1.2 \"analyzed_data\" (fixed folder name)\n",
    "            1.2.1 Stimtype (e.g. \"LocalCircle_5secON_5sec_OFF_120deg_10sec\", folder created by the code)\n",
    "                1.2.1.1 Defined genotype (e.g.\"ExpLine\", folder created by the code)\n",
    "                    1.2.1.1.1 Pickle files (files generated and saved during the analysis, step 7)\n",
    "        1.3 \"stimulus_types\" (fixed folder name)\n",
    "            1.3.1 Different stimulus input files used during the experiment (STIMULUS_NAME.txt files)\n",
    "\n",
    "    2. \"data_save_vars.txt\" (fixed name, text file that lists the variables that want to save in a pickle file, for step 7)\n",
    "    3. \"roi_save_vars.txt\" (fixed name, text file that lists the variables that want to save in a pickle file)\n",
    "\n"
   ]
  },
  {
   "cell_type": "markdown",
   "id": "3dd69053-a0c0-481c-9335-c01437593e91",
   "metadata": {
    "tags": []
   },
   "source": [
    "### 3. Region of Interest (ROI) selection\n",
    "\n",
    "Now we can start with the main part of the analysis:\n",
    "1. First we import everything we need (packages and course functions).\n",
    "2. Define data paths where to load the data from and save the generated analysis.\n",
    "3. Define the experimental conditions and analysis parameters.\n",
    "4. Define extraction parameters (ROI selection options).\n",
    "5. Load imaging and stimulus information and store info in different dictionaries.\n",
    "6. Store extraction and analysis parameters in different dictionaries."
   ]
  },
  {
   "cell_type": "code",
   "execution_count": 5,
   "id": "c5770f42",
   "metadata": {},
   "outputs": [
    {
     "name": "stdout",
     "output_type": "stream",
     "text": [
      "Once deleted, variables cannot be recovered. Proceed (y/[n])? y\n"
     ]
    }
   ],
   "source": [
    "%reset"
   ]
  },
  {
   "cell_type": "code",
   "execution_count": 6,
   "id": "bbe02051-0d9c-419b-9d81-9051194c0aa2",
   "metadata": {},
   "outputs": [],
   "source": [
    "# 1. Importing needed packages, modules and functions\n",
    "\n",
    "import os\n",
    "import copy\n",
    "import numpy as np\n",
    "import matplotlib.pyplot as plt\n",
    "import pandas as pd\n",
    "import pickle\n",
    "import warnings\n",
    "import matplotlib\n",
    "import seaborn as sns\n",
    "from scipy import stats\n",
    "from scipy.stats import linregress, pearsonr\n",
    "import scipy.stats as stats\n",
    "from sklearn import preprocessing\n",
    "from scipy import ndimage\n",
    "import statsmodels.stats.multicomp as mc\n",
    "import statsmodels.api as sm\n",
    "from statsmodels.formula.api import ols\n",
    "\n",
    "# Importing needed packages, modules and functions, specidif for the course\n",
    "import course_functions.ROI_mod_reduced_msc_course as ROI_mod\n",
    "from course_functions.core_functions_reduced_msc_course import saveWorkspace\n",
    "import course_functions.process_mov_core_reduced_msc_course as pmc\n",
    "import course_functions.post_analysis_core as pac\n",
    "import course_functions.post_analysis_1Hz_gratings_core_msc_course as pag"
   ]
  },
  {
   "cell_type": "code",
   "execution_count": 7,
   "id": "1c4b27cb-a0e6-43f8-ac96-3b79747aa0ff",
   "metadata": {},
   "outputs": [],
   "source": [
    "# 2. Defining the data path\n",
    "\n",
    "# dataFolder = r'C:\\MAIN\\FOLDER\\2pData'\n",
    "dataFolder = r'/home/mo/Uni/Fly_Murder_Party/2p_DATA'\n",
    "save_data = True # choose True or False if you want to save the data and some preliminary plots\n",
    "# Plot related\n",
    "plot_roi_summ = True # choose True or False"
   ]
  },
  {
   "cell_type": "code",
   "execution_count": 12,
   "id": "5a1276f5-623f-4036-a989-64bac4a54a2e",
   "metadata": {},
   "outputs": [],
   "source": [
    "# 3. Parameters to adjust\n",
    "\n",
    "plt.close('all') # closes all plots that may be still opend\n",
    "\n",
    "# Experimental parameters\n",
    "experiment = 'Tm9_recordings' # same name as the defined experimental folder\n",
    "current_exp_ID = '220926_fly1'\n",
    "current_t_series = current_exp_ID + '-001'\n",
    "Genotype = 'SomethingSomethingGCaMP6f' #[M] Naming stuff\n",
    "save_folder_geno = 'ukn.' #[M] Naming stuff\n",
    "Age = 'ukn.' #[M] Naming stuff\n",
    "Sex = 'ukn.' #[M] Naming stuff\n",
    "\n",
    "#[M] Not yet known what this does, I missed it # I think it's the name of the \"video\"\n",
    "time_series_stack = current_t_series + '_Ch2_reg.tif'# motion aligned tif stack from Step 1\n",
    "\n",
    "# Analysis parameters\n",
    "analysis_type = 'lumgratings' #stimulus type that was used\n",
    "deltaF_method = 'mean' #F0 for dF/F calculation\n"
   ]
  },
  {
   "cell_type": "code",
   "execution_count": 13,
   "id": "10133bb5",
   "metadata": {},
   "outputs": [],
   "source": [
    "# Auto-setting of some other directories\n",
    "initialDirectory = os.path.join(dataFolder, experiment)\n",
    "\n",
    "alignedDataDir = os.path.join(initialDirectory,\n",
    "                              'rawData/alignedData')\n",
    "stimInputDir = os.path.join(initialDirectory, 'stimulus_types')\n",
    "saveOutputDir = os.path.join(initialDirectory, 'analyzed_data')\n",
    "summary_save_dir = os.path.join(alignedDataDir,\n",
    "                                '_summaries')\n",
    "trash_folder = os.path.join(dataFolder, 'Trash')\n",
    "\n",
    "dataDir = os.path.join(alignedDataDir, current_exp_ID, current_t_series)\n",
    "if save_data:\n",
    "    figure_save_dir = os.path.join(dataDir, 'Results')\n",
    "    if not os.path.exists(figure_save_dir):\n",
    "        os.mkdir(figure_save_dir)\n",
    "else: \n",
    "    figure_save_dir = trash_folder"
   ]
  },
  {
   "cell_type": "code",
   "execution_count": 15,
   "id": "8033ff90",
   "metadata": {},
   "outputs": [],
   "source": [
    "# 4. Extraction parameters (ROI selection)\n",
    "\n",
    "extraction_type = 'manual' # 'transfer' 'manual'\n",
    "transfer_type = 'minimal' # 'minimal' 'predefined'\n",
    "transfer_data_name = current_t_series + '_manual.pickle'\n",
    "\n",
    "use_avg_data_for_roi_extract = False\n",
    "use_other_series_roiExtraction = False # ROI selection video\n",
    "roiExtraction_tseries = current_t_series"
   ]
  },
  {
   "cell_type": "code",
   "execution_count": 16,
   "id": "eb7cdb3e-6c65-452e-852a-028b4f3dc785",
   "metadata": {},
   "outputs": [
    {
     "name": "stderr",
     "output_type": "stream",
     "text": [
      "<tifffile.TiffPage 0 @8> imagej_metadata failed with ValueError: The truth value of an array with more than one element is ambiguous. Use a.any() or a.all()\n"
     ]
    },
    {
     "name": "stdout",
     "output_type": "stream",
     "text": [
      "Number of epochs = 6\n",
      "Last trial of epoch 3 is discarded since the length was too short\n"
     ]
    }
   ],
   "source": [
    "# 5. Load the stimulus and imaging information. Store data in dictionaries.\n",
    "\n",
    "(time_series, stimulus_information,imaging_information) = \\\n",
    "    pmc.pre_processing_movie (dataDir,stimInputDir,time_series_stack)\n",
    "mean_image = time_series.mean(0)\n",
    "current_movie_ID = current_exp_ID + '-' + current_t_series\n",
    "\n",
    "experiment_conditions = \\\n",
    "    {'Genotype' : Genotype, 'Age': Age, 'Sex' : Sex,\n",
    "     'FlyID' : current_exp_ID, 'MovieID': current_movie_ID}\n"
   ]
  },
  {
   "cell_type": "markdown",
   "id": "09115a7b-9f25-41e9-aab1-8a232d50319d",
   "metadata": {},
   "source": [
    "<font color='blue'>**Exercise 1**:\n",
    "<br>For you to get familiar with the data we just loaded and with the data we will work with, please take a look at the following dictionaries:\n",
    "    - `stimulus_information`\n",
    "    - `imaging_information`\n",
    "    - `experiment_conditions`\n",
    "and call some of the info in there, e.g. from `stimulus_information`: 'stimtype', 'duration', 'lum' </font>\n",
    "\n",
    "<font color='blue'><br>Python basics:   \n",
    "A dictionary is built by having a key and one or several values which can be called by this key. In the cell above we have an example of how it can be constructed. `experiment_conditions` is the name of the dictionary. `'Genotype', 'Age', 'Sex', 'FlyID'` and `'MovieID'` are the keys of this dictionary. The key is seperated from the value/s with a `:` .\n",
    "By writing the dictionary name in a cell and just running that cell you can see the keys with their corresponding values.\n",
    "By writing the dictionary name followed by square brackets and a key, e.g. `experiment_conditions['Genotype']`, the output will be all the values of this key.  </font>"
   ]
  },
  {
   "cell_type": "code",
   "execution_count": 20,
   "id": "d6556c6d",
   "metadata": {},
   "outputs": [
    {
     "data": {
      "text/plain": [
       "{'Genotype': 'SomethingSomethingGCaMP6f',\n",
       " 'Age': 'ukn.',\n",
       " 'Sex': 'ukn.',\n",
       " 'FlyID': '220926_fly1',\n",
       " 'MovieID': '220926_fly1-220926_fly1-001'}"
      ]
     },
     "execution_count": 20,
     "metadata": {},
     "output_type": "execute_result"
    }
   ],
   "source": [
    "experiment_conditions"
   ]
  },
  {
   "cell_type": "markdown",
   "id": "e07429dc",
   "metadata": {},
   "source": [
    "Next, we organize and safe in further dictionaries the extraction and analysis parameters that will be applied to the data."
   ]
  },
  {
   "cell_type": "code",
   "execution_count": 21,
   "id": "a8d4600d-9ee7-46e4-b9ff-6635d4be21e7",
   "metadata": {},
   "outputs": [],
   "source": [
    "# 6. Store extraction and analysis parameters in dictionaries.\n",
    "if transfer_type == 'predefined':\n",
    "    transfer_type = analysis_type\n",
    "    \n",
    "extraction_params = \\\n",
    "    pmc.organize_extraction_params(extraction_type,\n",
    "                               current_t_series=current_t_series,\n",
    "                               current_exp_ID=current_exp_ID,\n",
    "                               alignedDataDir=alignedDataDir,\n",
    "                               stimInputDir=stimInputDir,\n",
    "                               use_other_series_roiExtraction = use_other_series_roiExtraction,\n",
    "                               use_avg_data_for_roi_extract = use_avg_data_for_roi_extract,\n",
    "                               roiExtraction_tseries=roiExtraction_tseries,\n",
    "                               transfer_data_n = transfer_data_name,\n",
    "                               transfer_data_store_dir = saveOutputDir,\n",
    "                               transfer_type = transfer_type,\n",
    "                               imaging_information=imaging_information,\n",
    "                               experiment_conditions=experiment_conditions)\n",
    "        \n",
    "    \n",
    "analysis_params = {'deltaF_method': deltaF_method,\n",
    "                   'analysis_type': analysis_type} "
   ]
  },
  {
   "cell_type": "markdown",
   "id": "24514089",
   "metadata": {},
   "source": [
    "#### Running ROI selection"
   ]
  },
  {
   "cell_type": "markdown",
   "id": "28a0b46c-8fff-4731-8656-688f3ded550a",
   "metadata": {
    "tags": []
   },
   "source": [
    "The ROI selection we are using (via the roipoly package) is not compatible with jupyter notebook. Therefore, please run the `raw_roi_extraction.py` script in your IDE of choice (e.g., Spyder or Visual Studio Code (VSC)).\n",
    "This script contains all what we just have seen in the cells above. Make sure that all user-defined parameters are correct.\n",
    "The output of this script is a pickle file with a `extracted_rois` dictionary that contains all variable that we need for continuing the analysis.\n",
    "\n",
    "*Important:  Following the instructions when the scrit is executed, Lable the first ROI selected for the background as: \"bg\"*"
   ]
  },
  {
   "cell_type": "markdown",
   "id": "af3e3297-4932-4230-93a0-29722416a3f0",
   "metadata": {},
   "source": [
    "Once you have run the script, we load the variables of the `extracted_rois` dictionary:"
   ]
  },
  {
   "cell_type": "code",
   "execution_count": 23,
   "id": "a21d2f4b-dc33-4ab3-9ebc-2674b62df9d3",
   "metadata": {},
   "outputs": [],
   "source": [
    "# Load the pickle files with the extracted rois and unpack the roi variables.\n",
    "extracted_roi_dir = os.path.join(alignedDataDir, 'extracted_rois')\n",
    "os.chdir(extracted_roi_dir)\n",
    "extracted_roi_file = f'{current_movie_ID}_{extraction_params[\"type\"]}_extracted_rois.pickle'\n",
    "extracted_rois = pickle.load(open(extracted_roi_file, 'rb'))\n",
    "\n",
    "cat_masks = extracted_rois['cat_masks']\n",
    "cat_names = extracted_rois['cat_names']\n",
    "roi_masks = extracted_rois['roi_masks']\n",
    "all_rois_image = extracted_rois['all_rois_image']\n",
    "rois = extracted_rois['rois']"
   ]
  },
  {
   "cell_type": "code",
   "execution_count": 24,
   "id": "2a927e8b",
   "metadata": {},
   "outputs": [
    {
     "data": {
      "text/plain": [
       "['bg']"
      ]
     },
     "execution_count": 24,
     "metadata": {},
     "output_type": "execute_result"
    }
   ],
   "source": [
    "cat_names"
   ]
  },
  {
   "cell_type": "code",
   "execution_count": 25,
   "id": "5dae4553",
   "metadata": {},
   "outputs": [
    {
     "data": {
      "text/plain": [
       "[array([[False, False, False, ..., False, False, False],\n",
       "        [False, False, False, ..., False, False, False],\n",
       "        [False, False, False, ..., False, False, False],\n",
       "        ...,\n",
       "        [False, False, False, ..., False, False, False],\n",
       "        [False, False, False, ..., False, False, False],\n",
       "        [False, False, False, ..., False, False, False]]),\n",
       " array([[False, False, False, ..., False, False, False],\n",
       "        [False, False, False, ..., False, False, False],\n",
       "        [False, False, False, ..., False, False, False],\n",
       "        ...,\n",
       "        [False, False, False, ..., False, False, False],\n",
       "        [False, False, False, ..., False, False, False],\n",
       "        [False, False, False, ..., False, False, False]]),\n",
       " array([[False, False, False, ..., False, False, False],\n",
       "        [False, False, False, ..., False, False, False],\n",
       "        [False, False, False, ..., False, False, False],\n",
       "        ...,\n",
       "        [False, False, False, ..., False, False, False],\n",
       "        [False, False, False, ..., False, False, False],\n",
       "        [False, False, False, ..., False, False, False]]),\n",
       " array([[False, False, False, ..., False, False, False],\n",
       "        [False, False, False, ..., False, False, False],\n",
       "        [False, False, False, ..., False, False, False],\n",
       "        ...,\n",
       "        [False, False, False, ..., False, False, False],\n",
       "        [False, False, False, ..., False, False, False],\n",
       "        [False, False, False, ..., False, False, False]]),\n",
       " array([[False, False, False, ..., False, False, False],\n",
       "        [False, False, False, ..., False, False, False],\n",
       "        [False, False, False, ..., False, False, False],\n",
       "        ...,\n",
       "        [False, False, False, ..., False, False, False],\n",
       "        [False, False, False, ..., False, False, False],\n",
       "        [False, False, False, ..., False, False, False]]),\n",
       " array([[False, False, False, ..., False, False, False],\n",
       "        [False, False, False, ..., False, False, False],\n",
       "        [False, False, False, ..., False, False, False],\n",
       "        ...,\n",
       "        [False, False, False, ..., False, False, False],\n",
       "        [False, False, False, ..., False, False, False],\n",
       "        [False, False, False, ..., False, False, False]]),\n",
       " array([[False, False, False, ..., False, False, False],\n",
       "        [False, False, False, ..., False, False, False],\n",
       "        [False, False, False, ..., False, False, False],\n",
       "        ...,\n",
       "        [False, False, False, ..., False, False, False],\n",
       "        [False, False, False, ..., False, False, False],\n",
       "        [False, False, False, ..., False, False, False]])]"
      ]
     },
     "execution_count": 25,
     "metadata": {},
     "output_type": "execute_result"
    }
   ],
   "source": [
    "roi_masks"
   ]
  },
  {
   "cell_type": "markdown",
   "id": "46ca3357",
   "metadata": {},
   "source": [
    "### 4. Background subtraction\n",
    "In the step before you selected regions of interest, which are single axon terminals. In addition you selected a region which did not have any neurons or other structures in it, the background (bg). Now this background will be subtracted from the whole recording to reduce any noise signal.\n",
    "\n",
    "From this step forward, all the analysis will be done per each ROI. For that, we will generate for each ROI an instace of the class ROI_bg, in which we will store information about the stimulation, the experiment, the imaging and the actual neuronal responses (time_series).\n"
   ]
  },
  {
   "cell_type": "code",
   "execution_count": 26,
   "id": "b129df2c-05bc-4d2c-9bfc-32b69af8ae53",
   "metadata": {},
   "outputs": [],
   "source": [
    "# Get mask for background, needed for bg subtration later\n",
    "for idx, cat_name in enumerate(cat_names):\n",
    "    if cat_name.lower() == 'bg\\r': # In case you label in debug mode\n",
    "        bg_mask = cat_masks[idx]\n",
    "        continue\n",
    "    elif cat_name.lower() == 'bg': \n",
    "        bg_mask = cat_masks[idx]\n",
    "        continue"
   ]
  },
  {
   "cell_type": "code",
   "execution_count": 27,
   "id": "caa123d6-2442-4af3-b195-ebb124f7ea1d",
   "metadata": {},
   "outputs": [],
   "source": [
    "# Generate ROI_bg instances\n",
    "if rois == None:\n",
    "    del rois\n",
    "    rois = ROI_mod.generate_ROI_instances(roi_masks, cat_masks, cat_names,\n",
    "                                          mean_image, \n",
    "                                          experiment_info = experiment_conditions, \n",
    "                                          imaging_info =imaging_information)"
   ]
  },
  {
   "cell_type": "code",
   "execution_count": 28,
   "id": "b5de123c-495c-42d1-9e46-5cd106adb66b",
   "metadata": {},
   "outputs": [
    {
     "name": "stdout",
     "output_type": "stream",
     "text": [
      "\n",
      " Background subtraction done...\n"
     ]
    }
   ],
   "source": [
    "# BG subtraction\n",
    "time_series = np.transpose(np.subtract(np.transpose(time_series),\n",
    "                                       time_series[:,bg_mask].mean(axis=1)))\n",
    "print('\\n Background subtraction done...')"
   ]
  },
  {
   "cell_type": "markdown",
   "id": "97071101",
   "metadata": {},
   "source": [
    "<font color='blue'>**Exercise 2**:\n",
    "Please look at what is being stored in the different elements of the rois. Look at the class attributes (e.g., `rois[0].__dict__`)\n",
    "<br> - Plot the source image and the mask for one ROI together </font> "
   ]
  },
  {
   "cell_type": "markdown",
   "id": "f8024533",
   "metadata": {},
   "source": [
    "### 5. dF/F calculation and trial average\n",
    "\n",
    "In this step the change in flourescence delta F (dF) at a time point t will be normalized to the baseline fluorescence F (or F0): **dF/F = (F(t)-F0)/F0**\n",
    "By calculating dF/F, the responses of different neurons and different flies are comparable now and in addition, noise can be reduced.\n",
    "\n",
    "During trial averaging, we combine the data aquired in one recording for different trials (when the same stimulus sequence is repeated for several times (here 5 times)) and take the average data for each epoch (stimulus occurence, e.g each different luminanc)."
   ]
  },
  {
   "cell_type": "code",
   "execution_count": 29,
   "id": "4a92b845-8825-4e39-92da-15bf66585a54",
   "metadata": {},
   "outputs": [
    {
     "name": "stdout",
     "output_type": "stream",
     "text": [
      "Traces are stored in ROI objects.\n"
     ]
    }
   ],
   "source": [
    "#  df/f calculation and trial average \n",
    "(wholeTraces_allTrials_ROIs, respTraces_allTrials_ROIs,\n",
    " baselineTraces_allTrials_ROIs) = \\\n",
    "    pmc.separate_trials_ROI_v4(time_series,rois,stimulus_information,\n",
    "                               imaging_information['frame_rate'],\n",
    "                               df_method = analysis_params['deltaF_method'])"
   ]
  },
  {
   "cell_type": "markdown",
   "id": "4a48d2b0",
   "metadata": {},
   "source": [
    "<font color='blue'>**Exercise 3**:\n",
    "Look again at the class attributes (e.g., `rois[0].__dict__`) \n",
    "<br>- What is the difference between `raw_trace` and `df_trace`?\n",
    "<br>- What is the difference between `whole_trace_all_epochs` and `resp_trace_all_epochs`?\n",
    "<br>- What is the content of `respTraces_allTrials_ROIs` ?\n",
    "<br>You could explore their size and plot a few examples</font> "
   ]
  },
  {
   "cell_type": "markdown",
   "id": "62534307",
   "metadata": {},
   "source": [
    "Once you have an instance of a class ROI_bg, we can further use some class methods (functions) to perform some other calculations, for example, finding the maximum response or adding the source image or stimulus information. After all, what we care about is to be able to reconstruct all what has happend to a particular ROI anb control what else can happen to it."
   ]
  },
  {
   "cell_type": "code",
   "execution_count": 30,
   "id": "6e0d4abd-b985-4ba9-9dd2-88cace5660e9",
   "metadata": {},
   "outputs": [],
   "source": [
    "# Append relevant information and calculate some parameters\n",
    "a = list(map(lambda roi: roi.appendStimInfo(stimulus_information), rois))\n",
    "b = list(map(lambda roi: roi.findMaxResponse_all_epochs(), rois))\n",
    "c = list(map(lambda roi: roi.setSourceImage(mean_image), rois))"
   ]
  },
  {
   "cell_type": "markdown",
   "id": "995840e1",
   "metadata": {},
   "source": [
    "<font color='blue'>**Question**:\n",
    "<br>- What is a lamda function?\n",
    "<br>- What is the map() function doing here? </font>"
   ]
  },
  {
   "cell_type": "markdown",
   "id": "684fa05d-b9a0-4e92-9f56-b6ea55f5d1e5",
   "metadata": {
    "tags": []
   },
   "source": [
    "### 6. SNR (Signal to Noise Ratio) and Reliability calculation\n",
    "\n",
    "These two values can be used to filter out ROIs that do not respond at all or in any regards to the stimulus. \n",
    "The following function calculates the signal-to-noise ratio (SNR). Equation taken from Kouvalainen et al. 1994 (see calculation of SNR true from SNR estimated). Also calculates the correlation between the first and the last trial to estimate the reliability of responses."
   ]
  },
  {
   "cell_type": "code",
   "execution_count": 31,
   "id": "9c97d409-76af-478a-a84b-a8afa1ef50c5",
   "metadata": {},
   "outputs": [],
   "source": [
    "#%% SNR and reliability\n",
    "[SNR_rois, corr_rois] = pmc.calculate_SNR_Corr(baselineTraces_allTrials_ROIs,\n",
    "                                               respTraces_allTrials_ROIs,rois,\n",
    "                                               epoch_to_exclude=None)\n",
    "\n",
    "\n"
   ]
  },
  {
   "cell_type": "code",
   "execution_count": 32,
   "id": "1895bb88-e109-4009-a8a6-576ffb835106",
   "metadata": {},
   "outputs": [
    {
     "name": "stdout",
     "output_type": "stream",
     "text": [
      "No threshold used, all ROIs will be retained\n"
     ]
    }
   ],
   "source": [
    "# Thresholding\n",
    "\n",
    "threshold_dict = None\n",
    "# A dictionary with desired ROI_bg property names that will be\n",
    "# thresholded as keys and the corresponding threshold values as values.7\n",
    "    \n",
    "if threshold_dict is None:\n",
    "    print('No threshold used, all ROIs will be retained')\n",
    "    thresholded_rois = rois\n",
    "else:\n",
    "    print('Thresholding ROIs')\n",
    "    thresholded_rois = ROI_mod.threshold_ROIs(rois, threshold_dict)\n",
    "\n",
    "final_rois = thresholded_rois\n",
    "final_roi_image = ROI_mod.get_masks_image(final_rois)"
   ]
  },
  {
   "cell_type": "code",
   "execution_count": 33,
   "id": "109af445-0e38-4ffc-997d-f87141879f61",
   "metadata": {},
   "outputs": [
    {
     "name": "stdout",
     "output_type": "stream",
     "text": [
      "ROI images saved\n"
     ]
    },
    {
     "data": {
      "image/png": "[encoded data removed]",
      "text/plain": [
       "<Figure size 500x500 with 1 Axes>"
      ]
     },
     "metadata": {},
     "output_type": "display_data"
    }
   ],
   "source": [
    "#%% Plotting ROIs and properties\n",
    "pmc.plot_roi_masks(final_roi_image,mean_image,len(final_rois),\n",
    "                   current_movie_ID,save_fig=True,\n",
    "                   save_dir=figure_save_dir,alpha=0.4)"
   ]
  },
  {
   "cell_type": "code",
   "execution_count": 34,
   "id": "d9d3c03b",
   "metadata": {},
   "outputs": [],
   "source": [
    "# Reliability and SNR plot\n",
    "images = []\n",
    "(properties, colormaps, vminmax, data_to_extract) = \\\n",
    "    pmc.select_properties_plot(final_rois , analysis_params['analysis_type'])\n",
    "for prop in properties:\n",
    "    images.append(ROI_mod.generate_colorMasks_properties(final_rois, prop))"
   ]
  },
  {
   "cell_type": "code",
   "execution_count": 35,
   "id": "197a5435",
   "metadata": {},
   "outputs": [
    {
     "name": "stdout",
     "output_type": "stream",
     "text": [
      "ROI property images saved\n"
     ]
    },
    {
     "data": {
      "image/png": "[encoded data removed]",
      "text/plain": [
       "<Figure size 800x600 with 6 Axes>"
      ]
     },
     "metadata": {},
     "output_type": "display_data"
    }
   ],
   "source": [
    "pmc.plot_roi_properties(images, properties, colormaps, mean_image,\n",
    "                        vminmax,current_movie_ID, imaging_information['depth'],\n",
    "                        save_fig=True, save_dir=figure_save_dir,figsize=(8, 6),\n",
    "                        alpha=0.5)"
   ]
  },
  {
   "cell_type": "code",
   "execution_count": 36,
   "id": "5770c4fc",
   "metadata": {},
   "outputs": [
    {
     "name": "stderr",
     "output_type": "stream",
     "text": [
      "/home/mo/anaconda3/envs/2p_analysis/lib/python3.7/site-packages/seaborn/distributions.py:2148: UserWarning: `displot` is a figure-level function and does not accept the ax= parameter. You may wish to try histplot.\n",
      "  warnings.warn(msg, UserWarning)\n",
      "/home/mo/anaconda3/envs/2p_analysis/lib/python3.7/site-packages/seaborn/distributions.py:2148: UserWarning: `displot` is a figure-level function and does not accept the ax= parameter. You may wish to try histplot.\n",
      "  warnings.warn(msg, UserWarning)\n"
     ]
    },
    {
     "name": "stdout",
     "output_type": "stream",
     "text": [
      "ROI properties saved\n"
     ]
    },
    {
     "data": {
      "image/png": "[encoded data removed]",
      "text/plain": [
       "<Figure size 1000x300 with 2 Axes>"
      ]
     },
     "metadata": {},
     "output_type": "display_data"
    },
    {
     "data": {
      "image/png": "[encoded data removed]",
      "text/plain": [
       "<Figure size 500x500 with 1 Axes>"
      ]
     },
     "metadata": {},
     "output_type": "display_data"
    },
    {
     "data": {
      "image/png": "[encoded data removed]",
      "text/plain": [
       "<Figure size 500x500 with 1 Axes>"
      ]
     },
     "metadata": {},
     "output_type": "display_data"
    }
   ],
   "source": [
    "final_roi_data = ROI_mod.data_to_list(final_rois, data_to_extract)\n",
    "rois_df = pd.DataFrame.from_dict(final_roi_data)\n",
    "\n",
    "pmc.plot_df_dataset(rois_df,data_to_extract,\n",
    "                    exp_ID=('%s_%s' % (current_movie_ID,\n",
    "                                       extraction_params['type'])),\n",
    "                    save_fig=True, save_dir=figure_save_dir)"
   ]
  },
  {
   "cell_type": "markdown",
   "id": "9620efb1-4f24-4aa8-81dd-cf41661031c6",
   "metadata": {
    "tags": []
   },
   "source": [
    "### 7. Analysis by stimulus type"
   ]
  },
  {
   "cell_type": "markdown",
   "id": "17379d85",
   "metadata": {},
   "source": [
    "For the specific stimulation (e.g, lumgratings), we perform an specific analysis abd save generated variables in the ROI_bg instances."
   ]
  },
  {
   "cell_type": "code",
   "execution_count": 37,
   "id": "2d5d1999-7504-48f4-8ff2-2bf84ab0d96c",
   "metadata": {
    "scrolled": true,
    "tags": []
   },
   "outputs": [],
   "source": [
    "%%capture\n",
    "# Run desired analyses for different types\n",
    "final_rois = pmc.run_analysis(analysis_params,final_rois,experiment_conditions,\n",
    "                              imaging_information,summary_save_dir,\n",
    "                              save_fig=True,fig_save_dir = figure_save_dir,\n",
    "                              exp_ID=('%s_%s' % (current_movie_ID,\n",
    "                                                 extraction_params['type'])))\n",
    "plt.close('all')"
   ]
  },
  {
   "cell_type": "markdown",
   "id": "99d6141d-1f1a-4443-ad6d-b12dec9b6151",
   "metadata": {
    "tags": []
   },
   "source": [
    "### 8. Save analysed data\n",
    "\n",
    "Now the data is saved in a pickle file. Each ROI will be its own dictionary with all the generated data as keys and values inside. Every fly/ TSeries/ recording will have its own pickle file."
   ]
  },
  {
   "cell_type": "code",
   "execution_count": 38,
   "id": "2ca7e3b5-df48-46b3-b224-2cd71edc52ab",
   "metadata": {},
   "outputs": [
    {
     "name": "stdout",
     "output_type": "stream",
     "text": [
      "data_save_vars.txt\n",
      "\n",
      "\n",
      "220926_fly1-220926_fly1-001_manual saved...\n",
      "\n",
      "\n"
     ]
    }
   ],
   "source": [
    "# Save data\n",
    "saveOutputDir = os.path.join(initialDirectory, 'analyzed_data')\n",
    "if save_data:\n",
    "    os.chdir(dataFolder) # Seb: data_save_vars.txt file needs to be there    \n",
    "    varDict = locals()\n",
    "    pckl_save_name = ('%s_%s' % (current_movie_ID, extraction_params['type']))\n",
    "    saveOutputDir = os.path.join(saveOutputDir, varDict['varDict']['stimulus_information']['stim_name'][:-4]) #Seb: experiment_folder/analyzed_data/stim_name/genotype_folder\n",
    "    if not os.path.exists(saveOutputDir):\n",
    "            os.mkdir(saveOutputDir) # Seb: creating stim_folder\n",
    "    saveOutputDir = os.path.join(saveOutputDir,save_folder_geno)\n",
    "    if not os.path.exists(saveOutputDir):\n",
    "            os.mkdir(saveOutputDir) # Seb: creating genotype_folder\n",
    "    saveWorkspace(saveOutputDir,pckl_save_name, varDict, \n",
    "               varFile='data_save_vars.txt',extension='.pickle')\n",
    "\n",
    "    print('\\n\\n%s saved...\\n\\n' % pckl_save_name)\n",
    "else:\n",
    "    print('Pickle data not created')"
   ]
  },
  {
   "cell_type": "markdown",
   "id": "a92fa882-67f0-4242-abc4-1c677ada1c6f",
   "metadata": {},
   "source": [
    "### 9. Postanalysis: ploting the data across flies"
   ]
  },
  {
   "cell_type": "markdown",
   "id": "c7025ee8",
   "metadata": {},
   "source": [
    "In the following steps, we can pull together data from different flies (individual saved pickles files) and generate more plots."
   ]
  },
  {
   "cell_type": "code",
   "execution_count": 39,
   "id": "e1a27fb6-ba48-4bf6-8ce7-3f94612fed4c",
   "metadata": {
    "tags": []
   },
   "outputs": [
    {
     "name": "stdout",
     "output_type": "stream",
     "text": [
      "Here is the saved pickle files:\n",
      " /home/mo/Uni/Fly_Murder_Party/2p_DATA/Tm9_recordings/analyzed_data/Gratings_sine_wave_30sw_30deg_sec_1hz_4sec_static_DARK_4sec_moving_5_luminances_0.1_0.5_40sec/ukn.\n",
      "\n",
      "And here we will save the plots that are generated in the last step:\n",
      " /home/mo/Uni/Fly_Murder_Party/2p_DATA/Tm9_recordings/analyzed_data/Gratings_sine_wave_30sw_30deg_sec_1hz_4sec_static_DARK_4sec_moving_5_luminances_0.1_0.5_40sec/ukn./results\n"
     ]
    }
   ],
   "source": [
    "print (f'Here is the saved pickle files:\\n {saveOutputDir}\\n')\n",
    "data_dir = saveOutputDir\n",
    "results_save_dir = os.path.join(saveOutputDir ,'results')\n",
    "if not os.path.exists(results_save_dir):\n",
    "    os.mkdir(results_save_dir)\n",
    "    \n",
    "print (f'And here we will save the plots that are generated in the last step:\\n {results_save_dir}')"
   ]
  },
  {
   "cell_type": "code",
   "execution_count": 41,
   "id": "1778ed11-20f1-49a6-a7fe-c67274e1a8a1",
   "metadata": {
    "tags": []
   },
   "outputs": [
    {
     "name": "stdout",
     "output_type": "stream",
     "text": [
      "SomethingSomethingGCaMP6f\n",
      "Gratings_sine_wave_30sw_30deg_sec_1hz_4sec_static_DARK_4sec_moving_5_luminances_0.1_0.5_40sec.txt\n",
      "220926_fly1-220926_fly1-001_manual.pickle successfully loaded\n",
      "\n"
     ]
    }
   ],
   "source": [
    "# In the analyzed data folder, select stimulus folder from where to load the data\n",
    "plot_only_cat = True\n",
    "noisy_grating_analysis = False\n",
    "#stimulusFolder = 'Gratings_sine_wave_30sw_30deg_sec_1hz_4sec_static_DARK_4sec_moving_5_luminances_0.1_0.5'\n",
    "stimulusFolder = 'Gratings_sine_wave_30sw_30deg_sec_1hz_4sec_static_DARK_4sec_moving_5_luminances_0.1_0.5_40sec'\n",
    "\n",
    "# Loading data and some parameters\n",
    "polarity_dict, cat_dict = pag.get_polarity_and_cat_dict()\n",
    "all_rois, combined_df, tunings, z_tunings, baselines, baseline_power, _variable = pag.load_pickle_data (data_dir, noisy_grating_analysis, stimulusFolder)\n",
    "all_rois, combined_df, tunings, z_tunings, baselines, baseline_power = pag.concatenate_flies (all_rois, combined_df, tunings, z_tunings, baselines, baseline_power)\n"
   ]
  },
  {
   "cell_type": "markdown",
   "id": "83ac09ca",
   "metadata": {},
   "source": [
    "All data is being pulled in a common dataframe: `combined_df`. Take a look insise!"
   ]
  },
  {
   "cell_type": "code",
   "execution_count": 70,
   "id": "b5665b5a",
   "metadata": {},
   "outputs": [
    {
     "data": {
      "text/html": [
       "<div>\n",
       "<style scoped>\n",
       "    .dataframe tbody tr th:only-of-type {\n",
       "        vertical-align: middle;\n",
       "    }\n",
       "\n",
       "    .dataframe tbody tr th {\n",
       "        vertical-align: top;\n",
       "    }\n",
       "\n",
       "    .dataframe thead th {\n",
       "        text-align: right;\n",
       "    }\n",
       "</style>\n",
       "<table border=\"1\" class=\"dataframe\">\n",
       "  <thead>\n",
       "    <tr style=\"text-align: right;\">\n",
       "      <th></th>\n",
       "      <th>SNR</th>\n",
       "      <th>Reliab</th>\n",
       "      <th>depth</th>\n",
       "      <th>slope</th>\n",
       "      <th>RF_map_center</th>\n",
       "      <th>RF_map_bool</th>\n",
       "      <th>RF_distance_to_center</th>\n",
       "      <th>RF_horizontal_center</th>\n",
       "      <th>RF_vertical_center</th>\n",
       "      <th>base_slope</th>\n",
       "      <th>category</th>\n",
       "      <th>reliability</th>\n",
       "      <th>flyID</th>\n",
       "      <th>Geno</th>\n",
       "      <th>uniq_id</th>\n",
       "      <th>flyIDNum</th>\n",
       "    </tr>\n",
       "  </thead>\n",
       "  <tbody>\n",
       "    <tr>\n",
       "      <th>0</th>\n",
       "      <td>-0.183636</td>\n",
       "      <td>NaN</td>\n",
       "      <td>0.0</td>\n",
       "      <td>0.076587</td>\n",
       "      <td>None</td>\n",
       "      <td>False</td>\n",
       "      <td>NaN</td>\n",
       "      <td>NaN</td>\n",
       "      <td>NaN</td>\n",
       "      <td>-1.508863</td>\n",
       "      <td>NaN</td>\n",
       "      <td>0.924267</td>\n",
       "      <td>220926_fly1</td>\n",
       "      <td>Som</td>\n",
       "      <td>140381347120656</td>\n",
       "      <td>0</td>\n",
       "    </tr>\n",
       "    <tr>\n",
       "      <th>1</th>\n",
       "      <td>-0.185533</td>\n",
       "      <td>NaN</td>\n",
       "      <td>0.0</td>\n",
       "      <td>0.044692</td>\n",
       "      <td>None</td>\n",
       "      <td>False</td>\n",
       "      <td>NaN</td>\n",
       "      <td>NaN</td>\n",
       "      <td>NaN</td>\n",
       "      <td>-1.541766</td>\n",
       "      <td>NaN</td>\n",
       "      <td>0.928164</td>\n",
       "      <td>220926_fly1</td>\n",
       "      <td>Som</td>\n",
       "      <td>140381347121168</td>\n",
       "      <td>0</td>\n",
       "    </tr>\n",
       "    <tr>\n",
       "      <th>2</th>\n",
       "      <td>1.431628</td>\n",
       "      <td>NaN</td>\n",
       "      <td>0.0</td>\n",
       "      <td>0.130004</td>\n",
       "      <td>None</td>\n",
       "      <td>False</td>\n",
       "      <td>NaN</td>\n",
       "      <td>NaN</td>\n",
       "      <td>NaN</td>\n",
       "      <td>-1.178419</td>\n",
       "      <td>NaN</td>\n",
       "      <td>0.851513</td>\n",
       "      <td>220926_fly1</td>\n",
       "      <td>Som</td>\n",
       "      <td>140381347123152</td>\n",
       "      <td>0</td>\n",
       "    </tr>\n",
       "    <tr>\n",
       "      <th>3</th>\n",
       "      <td>1.523323</td>\n",
       "      <td>NaN</td>\n",
       "      <td>0.0</td>\n",
       "      <td>0.048870</td>\n",
       "      <td>None</td>\n",
       "      <td>False</td>\n",
       "      <td>NaN</td>\n",
       "      <td>NaN</td>\n",
       "      <td>NaN</td>\n",
       "      <td>-0.950866</td>\n",
       "      <td>NaN</td>\n",
       "      <td>0.927791</td>\n",
       "      <td>220926_fly1</td>\n",
       "      <td>Som</td>\n",
       "      <td>140381347122064</td>\n",
       "      <td>0</td>\n",
       "    </tr>\n",
       "    <tr>\n",
       "      <th>4</th>\n",
       "      <td>1.253790</td>\n",
       "      <td>NaN</td>\n",
       "      <td>0.0</td>\n",
       "      <td>0.125696</td>\n",
       "      <td>None</td>\n",
       "      <td>False</td>\n",
       "      <td>NaN</td>\n",
       "      <td>NaN</td>\n",
       "      <td>NaN</td>\n",
       "      <td>-1.145444</td>\n",
       "      <td>NaN</td>\n",
       "      <td>0.903056</td>\n",
       "      <td>220926_fly1</td>\n",
       "      <td>Som</td>\n",
       "      <td>140381347122256</td>\n",
       "      <td>0</td>\n",
       "    </tr>\n",
       "    <tr>\n",
       "      <th>5</th>\n",
       "      <td>1.020919</td>\n",
       "      <td>NaN</td>\n",
       "      <td>0.0</td>\n",
       "      <td>0.022490</td>\n",
       "      <td>None</td>\n",
       "      <td>False</td>\n",
       "      <td>NaN</td>\n",
       "      <td>NaN</td>\n",
       "      <td>NaN</td>\n",
       "      <td>-0.740883</td>\n",
       "      <td>NaN</td>\n",
       "      <td>0.890808</td>\n",
       "      <td>220926_fly1</td>\n",
       "      <td>Som</td>\n",
       "      <td>140381347119952</td>\n",
       "      <td>0</td>\n",
       "    </tr>\n",
       "    <tr>\n",
       "      <th>6</th>\n",
       "      <td>1.718361</td>\n",
       "      <td>NaN</td>\n",
       "      <td>0.0</td>\n",
       "      <td>0.018190</td>\n",
       "      <td>None</td>\n",
       "      <td>False</td>\n",
       "      <td>NaN</td>\n",
       "      <td>NaN</td>\n",
       "      <td>NaN</td>\n",
       "      <td>-0.929611</td>\n",
       "      <td>NaN</td>\n",
       "      <td>0.913870</td>\n",
       "      <td>220926_fly1</td>\n",
       "      <td>Som</td>\n",
       "      <td>140381347121552</td>\n",
       "      <td>0</td>\n",
       "    </tr>\n",
       "  </tbody>\n",
       "</table>\n",
       "</div>"
      ],
      "text/plain": [
       "        SNR Reliab  depth     slope RF_map_center RF_map_bool  \\\n",
       "0 -0.183636    NaN    0.0  0.076587          None       False   \n",
       "1 -0.185533    NaN    0.0  0.044692          None       False   \n",
       "2  1.431628    NaN    0.0  0.130004          None       False   \n",
       "3  1.523323    NaN    0.0  0.048870          None       False   \n",
       "4  1.253790    NaN    0.0  0.125696          None       False   \n",
       "5  1.020919    NaN    0.0  0.022490          None       False   \n",
       "6  1.718361    NaN    0.0  0.018190          None       False   \n",
       "\n",
       "   RF_distance_to_center  RF_horizontal_center  RF_vertical_center  \\\n",
       "0                    NaN                   NaN                 NaN   \n",
       "1                    NaN                   NaN                 NaN   \n",
       "2                    NaN                   NaN                 NaN   \n",
       "3                    NaN                   NaN                 NaN   \n",
       "4                    NaN                   NaN                 NaN   \n",
       "5                    NaN                   NaN                 NaN   \n",
       "6                    NaN                   NaN                 NaN   \n",
       "\n",
       "   base_slope  category  reliability        flyID Geno          uniq_id  \\\n",
       "0   -1.508863       NaN     0.924267  220926_fly1  Som  140381347120656   \n",
       "1   -1.541766       NaN     0.928164  220926_fly1  Som  140381347121168   \n",
       "2   -1.178419       NaN     0.851513  220926_fly1  Som  140381347123152   \n",
       "3   -0.950866       NaN     0.927791  220926_fly1  Som  140381347122064   \n",
       "4   -1.145444       NaN     0.903056  220926_fly1  Som  140381347122256   \n",
       "5   -0.740883       NaN     0.890808  220926_fly1  Som  140381347119952   \n",
       "6   -0.929611       NaN     0.913870  220926_fly1  Som  140381347121552   \n",
       "\n",
       "   flyIDNum  \n",
       "0         0  \n",
       "1         0  \n",
       "2         0  \n",
       "3         0  \n",
       "4         0  \n",
       "5         0  \n",
       "6         0  "
      ]
     },
     "execution_count": 70,
     "metadata": {},
     "output_type": "execute_result"
    }
   ],
   "source": [
    "combined_df"
   ]
  },
  {
   "cell_type": "code",
   "execution_count": 75,
   "id": "a3604ac6-7432-4d0a-bf37-7ac48e0c195b",
   "metadata": {},
   "outputs": [],
   "source": [
    "# define color dict\n",
    "_, colors = pac.run_matplotlib_params()\n",
    "c_dict = {k:colors[k] for k in colors if k in combined_df['Geno'].unique()}"
   ]
  },
  {
   "cell_type": "code",
   "execution_count": 74,
   "id": "fffebc37-155f-4bc4-b581-fa0a6ea16ba0",
   "metadata": {
    "scrolled": true,
    "tags": []
   },
   "outputs": [
    {
     "ename": "KeyError",
     "evalue": "'Som'",
     "output_type": "error",
     "traceback": [
      "\u001b[0;31m---------------------------------------------------------------------------\u001b[0m",
      "\u001b[0;31mKeyError\u001b[0m                                  Traceback (most recent call last)",
      "\u001b[0;32m/tmp/ipykernel_9757/2984038700.py\u001b[0m in \u001b[0;36m<module>\u001b[0;34m\u001b[0m\n\u001b[1;32m      4\u001b[0m \u001b[0;32mfor\u001b[0m \u001b[0midx\u001b[0m\u001b[0;34m,\u001b[0m \u001b[0mgeno\u001b[0m \u001b[0;32min\u001b[0m \u001b[0menumerate\u001b[0m\u001b[0;34m(\u001b[0m\u001b[0mnp\u001b[0m\u001b[0;34m.\u001b[0m\u001b[0munique\u001b[0m\u001b[0;34m(\u001b[0m\u001b[0mcombined_df\u001b[0m\u001b[0;34m[\u001b[0m\u001b[0;34m'Geno'\u001b[0m\u001b[0;34m]\u001b[0m\u001b[0;34m)\u001b[0m\u001b[0;34m)\u001b[0m\u001b[0;34m:\u001b[0m\u001b[0;34m\u001b[0m\u001b[0;34m\u001b[0m\u001b[0m\n\u001b[1;32m      5\u001b[0m \u001b[0;34m\u001b[0m\u001b[0m\n\u001b[0;32m----> 6\u001b[0;31m     \u001b[0mgeno_color\u001b[0m \u001b[0;34m=\u001b[0m \u001b[0mc_dict\u001b[0m\u001b[0;34m[\u001b[0m\u001b[0mgeno\u001b[0m\u001b[0;34m]\u001b[0m \u001b[0;31m#  colors[genotype_colors[0]]\u001b[0m\u001b[0;34m\u001b[0m\u001b[0;34m\u001b[0m\u001b[0m\n\u001b[0m\u001b[1;32m      7\u001b[0m     \u001b[0msave_n\u001b[0m \u001b[0;34m=\u001b[0m \u001b[0;34m'{g}_raw'\u001b[0m\u001b[0;34m.\u001b[0m\u001b[0mformat\u001b[0m\u001b[0;34m(\u001b[0m\u001b[0mg\u001b[0m\u001b[0;34m=\u001b[0m\u001b[0mgeno\u001b[0m\u001b[0;34m)\u001b[0m\u001b[0;34m\u001b[0m\u001b[0;34m\u001b[0m\u001b[0m\n\u001b[1;32m      8\u001b[0m     \u001b[0mneuron_save_dir\u001b[0m \u001b[0;34m=\u001b[0m \u001b[0mos\u001b[0m\u001b[0;34m.\u001b[0m\u001b[0mpath\u001b[0m\u001b[0;34m.\u001b[0m\u001b[0mjoin\u001b[0m\u001b[0;34m(\u001b[0m\u001b[0mresults_save_dir\u001b[0m\u001b[0;34m,\u001b[0m\u001b[0msave_n\u001b[0m\u001b[0;34m)\u001b[0m \u001b[0;31m#directory where this plot is saved\u001b[0m\u001b[0;34m\u001b[0m\u001b[0;34m\u001b[0m\u001b[0m\n",
      "\u001b[0;31mKeyError\u001b[0m: 'Som'"
     ]
    }
   ],
   "source": [
    "#Plotting concatenated epochs per ROI\n",
    "\n",
    "plt.close('all')\n",
    "for idx, geno in enumerate(np.unique(combined_df['Geno'])):\n",
    "   \n",
    "    geno_color = c_dict[geno] #  colors[genotype_colors[0]]\n",
    "    save_n = '{g}_raw'.format(g=geno)\n",
    "    neuron_save_dir = os.path.join(results_save_dir,save_n) #directory where this plot is saved\n",
    "    if not os.path.exists(neuron_save_dir): #if it does not exist jet, make a folder\n",
    "        os.mkdir(neuron_save_dir)\n",
    "    \n",
    "    curr_neuron_mask = pag.plot_only_cat_params(plot_only_cat, cat_dict, combined_df, geno, polarity_dict)\n",
    "    \n",
    "    curr_rois = all_rois[curr_neuron_mask]\n",
    "    for idx, roi in enumerate(curr_rois):\n",
    "        \n",
    "        fig = plt.figure(figsize=(16, 3))\n",
    "        plt.plot(roi.conc_resp,color = geno_color)\n",
    "        save_name = '{geno}_ROI_{n}'.format(geno=geno,n=idx)\n",
    "        plt.title('baseline_slope: {bs}'.format(bs=roi.base_slope))\n",
    "        os.chdir(neuron_save_dir)\n",
    "        plt.savefig('%s.png' % save_name, bbox_inches='tight')\n",
    "        plt.savefig('%s.pdf' % save_name, bbox_inches='tight')\n",
    "        #plt.close('all')"
   ]
  },
  {
   "cell_type": "markdown",
   "id": "d10cb622",
   "metadata": {},
   "source": [
    "We next write a function to calculate "
   ]
  },
  {
   "cell_type": "code",
   "execution_count": 73,
   "id": "7f1e4b27-b57a-4377-8c1f-e1e9db0e5714",
   "metadata": {},
   "outputs": [],
   "source": [
    "# Writing a function means and standard deviations for variables of interest\n",
    "\n",
    "def calculate_data_to_plot (plot_only_cat, cat_dict, combined_df, geno, polarity_dict, all_rois, tuning_c, mean_type):\n",
    "    curr_neuron_mask = pag.plot_only_cat_params(plot_only_cat, cat_dict, combined_df, geno, polarity_dict)\n",
    "    curr_df = combined_df[curr_neuron_mask]\n",
    "\n",
    "    diff_luminances = all_rois[curr_neuron_mask][0].luminances\n",
    "    sensitivities = tunings[curr_neuron_mask]\n",
    "    properties = ['Luminance', 'Response']\n",
    "    senst_df = pd.DataFrame(columns=properties)\n",
    "    \n",
    "    tuning_curves = tuning_c[curr_neuron_mask]\n",
    "    \n",
    "    a=pac.compute_over_samples_groups(data = tuning_curves, \n",
    "                                group_ids= np.array(combined_df[curr_neuron_mask]['flyIDNum']), \n",
    "                                error ='SEM',\n",
    "                                experiment_ids = np.array(combined_df[curr_neuron_mask]['Geno']))\n",
    "\n",
    "    label = '{g} n: {f}({ROI})'.format(g=geno,\n",
    "                                       f=len(a['experiment_ids'][geno]['over_samples_means']),\n",
    "                                       ROI=len(a['experiment_ids'][geno]['all_samples']))\n",
    "    \n",
    "    if mean_type == 'groups':        \n",
    "        all_mean_data = a['experiment_ids'][geno]['over_groups_mean']\n",
    "        print(geno,all_mean_data)\n",
    "        all_yerr = a['experiment_ids'][geno]['over_groups_error']\n",
    "    elif mean_type == 'samples':\n",
    "        mean_flies = np.array(a['experiment_ids'][geno]['over_samples_means'])\n",
    "        #mean_flies= mean_flies/mean_flies.max(1).reshape(mean_flies.shape[0],1) # For normalization, uncomment\n",
    "        all_mean_data = mean_flies.mean(0)\n",
    "        all_yerr = mean_flies.std(0)/np.sqrt(mean_flies.shape[0])\n",
    "    \n",
    "    return (all_mean_data, all_yerr, diff_luminances, label)"
   ]
  },
  {
   "cell_type": "code",
   "execution_count": 72,
   "id": "b2ee6c40-3a96-4ba9-8088-8ddb3aa10bf1",
   "metadata": {
    "tags": []
   },
   "outputs": [
    {
     "ename": "KeyError",
     "evalue": "'Som'",
     "output_type": "error",
     "traceback": [
      "\u001b[0;31m---------------------------------------------------------------------------\u001b[0m",
      "\u001b[0;31mKeyError\u001b[0m                                  Traceback (most recent call last)",
      "\u001b[0;32m/tmp/ipykernel_9757/1852656997.py\u001b[0m in \u001b[0;36m<module>\u001b[0;34m\u001b[0m\n\u001b[1;32m      2\u001b[0m \u001b[0;34m\u001b[0m\u001b[0m\n\u001b[1;32m      3\u001b[0m \u001b[0;32mfor\u001b[0m \u001b[0midx\u001b[0m\u001b[0;34m,\u001b[0m \u001b[0mgeno\u001b[0m \u001b[0;32min\u001b[0m \u001b[0menumerate\u001b[0m\u001b[0;34m(\u001b[0m\u001b[0mnp\u001b[0m\u001b[0;34m.\u001b[0m\u001b[0munique\u001b[0m\u001b[0;34m(\u001b[0m\u001b[0mcombined_df\u001b[0m\u001b[0;34m[\u001b[0m\u001b[0;34m'Geno'\u001b[0m\u001b[0;34m]\u001b[0m\u001b[0;34m)\u001b[0m\u001b[0;34m)\u001b[0m\u001b[0;34m:\u001b[0m\u001b[0;34m\u001b[0m\u001b[0;34m\u001b[0m\u001b[0m\n\u001b[0;32m----> 4\u001b[0;31m     \u001b[0mgeno_color\u001b[0m \u001b[0;34m=\u001b[0m \u001b[0mc_dict\u001b[0m\u001b[0;34m[\u001b[0m\u001b[0mgeno\u001b[0m\u001b[0;34m]\u001b[0m \u001b[0;31m#  colors[genotype_colors[0]]\u001b[0m\u001b[0;34m\u001b[0m\u001b[0;34m\u001b[0m\u001b[0m\n\u001b[0m\u001b[1;32m      5\u001b[0m     \u001b[0mneuron_save_dir\u001b[0m \u001b[0;34m=\u001b[0m \u001b[0mos\u001b[0m\u001b[0;34m.\u001b[0m\u001b[0mpath\u001b[0m\u001b[0;34m.\u001b[0m\u001b[0mjoin\u001b[0m\u001b[0;34m(\u001b[0m\u001b[0mresults_save_dir\u001b[0m\u001b[0;34m,\u001b[0m\u001b[0;34m'sine1Hz'\u001b[0m\u001b[0;34m)\u001b[0m\u001b[0;34m\u001b[0m\u001b[0;34m\u001b[0m\u001b[0m\n\u001b[1;32m      6\u001b[0m     \u001b[0;32mif\u001b[0m \u001b[0;32mnot\u001b[0m \u001b[0mos\u001b[0m\u001b[0;34m.\u001b[0m\u001b[0mpath\u001b[0m\u001b[0;34m.\u001b[0m\u001b[0mexists\u001b[0m\u001b[0;34m(\u001b[0m\u001b[0mneuron_save_dir\u001b[0m\u001b[0;34m)\u001b[0m\u001b[0;34m:\u001b[0m\u001b[0;34m\u001b[0m\u001b[0;34m\u001b[0m\u001b[0m\n",
      "\u001b[0;31mKeyError\u001b[0m: 'Som'"
     ]
    }
   ],
   "source": [
    "#Plotting 1 Hz response\n",
    "\n",
    "for idx, geno in enumerate(np.unique(combined_df['Geno'])):\n",
    "    geno_color = c_dict[geno] #  colors[genotype_colors[0]]\n",
    "    neuron_save_dir = os.path.join(results_save_dir,'sine1Hz')\n",
    "    if not os.path.exists(neuron_save_dir):\n",
    "        os.mkdir(neuron_save_dir)\n",
    "        \n",
    "    all_mean_data, all_yerr, diff_luminances, label = calculate_data_to_plot (plot_only_cat, cat_dict, combined_df, geno, polarity_dict, all_rois,tuning_c=tunings, mean_type='groups')\n",
    "    \n",
    "    fig = plt.figure(figsize=(4, 4))\n",
    "    grid = plt.GridSpec(1, 1, wspace=0.3, hspace=1)\n",
    "    ax1=plt.subplot(grid[0,0])\n",
    "    ax1.errorbar(diff_luminances,all_mean_data,all_yerr,\n",
    "                 fmt='-s',alpha=1,color=geno_color,label=label)\n",
    "    ax1.set_ylim((0,ax1.get_ylim()[1]))\n",
    "    ax1.set_title('1Hz response')"
   ]
  },
  {
   "cell_type": "code",
   "execution_count": 76,
   "id": "6b1025dd-e679-4cb1-afbd-3e9116f38e88",
   "metadata": {},
   "outputs": [
    {
     "ename": "KeyError",
     "evalue": "'Som'",
     "output_type": "error",
     "traceback": [
      "\u001b[0;31m---------------------------------------------------------------------------\u001b[0m",
      "\u001b[0;31mKeyError\u001b[0m                                  Traceback (most recent call last)",
      "\u001b[0;32m/tmp/ipykernel_9757/4109606396.py\u001b[0m in \u001b[0;36m<module>\u001b[0;34m\u001b[0m\n\u001b[1;32m      6\u001b[0m \u001b[0;34m\u001b[0m\u001b[0m\n\u001b[1;32m      7\u001b[0m \u001b[0;32mfor\u001b[0m \u001b[0midx\u001b[0m\u001b[0;34m,\u001b[0m \u001b[0mgeno\u001b[0m \u001b[0;32min\u001b[0m \u001b[0menumerate\u001b[0m\u001b[0;34m(\u001b[0m\u001b[0mnp\u001b[0m\u001b[0;34m.\u001b[0m\u001b[0munique\u001b[0m\u001b[0;34m(\u001b[0m\u001b[0mcombined_df\u001b[0m\u001b[0;34m[\u001b[0m\u001b[0;34m'Geno'\u001b[0m\u001b[0;34m]\u001b[0m\u001b[0;34m)\u001b[0m\u001b[0;34m)\u001b[0m\u001b[0;34m:\u001b[0m\u001b[0;34m\u001b[0m\u001b[0;34m\u001b[0m\u001b[0m\n\u001b[0;32m----> 8\u001b[0;31m     \u001b[0mgeno_color\u001b[0m \u001b[0;34m=\u001b[0m \u001b[0mc_dict\u001b[0m\u001b[0;34m[\u001b[0m\u001b[0mgeno\u001b[0m\u001b[0;34m]\u001b[0m \u001b[0;31m# colors[genotype_colors[idx]]\u001b[0m\u001b[0;34m\u001b[0m\u001b[0;34m\u001b[0m\u001b[0m\n\u001b[0m\u001b[1;32m      9\u001b[0m \u001b[0;34m\u001b[0m\u001b[0m\n\u001b[1;32m     10\u001b[0m     \u001b[0mall_mean_data\u001b[0m\u001b[0;34m,\u001b[0m \u001b[0mall_yerr\u001b[0m\u001b[0;34m,\u001b[0m \u001b[0mdiff_luminances\u001b[0m\u001b[0;34m,\u001b[0m \u001b[0mlabel\u001b[0m \u001b[0;34m=\u001b[0m \u001b[0mcalculate_data_to_plot\u001b[0m \u001b[0;34m(\u001b[0m\u001b[0mplot_only_cat\u001b[0m\u001b[0;34m,\u001b[0m \u001b[0mcat_dict\u001b[0m\u001b[0;34m,\u001b[0m \u001b[0mcombined_df\u001b[0m\u001b[0;34m,\u001b[0m \u001b[0mgeno\u001b[0m\u001b[0;34m,\u001b[0m \u001b[0mpolarity_dict\u001b[0m\u001b[0;34m,\u001b[0m \u001b[0mall_rois\u001b[0m\u001b[0;34m,\u001b[0m\u001b[0mtuning_c\u001b[0m\u001b[0;34m=\u001b[0m\u001b[0mtunings\u001b[0m\u001b[0;34m,\u001b[0m \u001b[0mmean_type\u001b[0m\u001b[0;34m=\u001b[0m\u001b[0;34m'groups'\u001b[0m\u001b[0;34m)\u001b[0m\u001b[0;34m\u001b[0m\u001b[0;34m\u001b[0m\u001b[0m\n",
      "\u001b[0;31mKeyError\u001b[0m: 'Som'"
     ]
    },
    {
     "data": {
      "image/png": "[encoded data removed]",
      "text/plain": [
       "<Figure size 800x300 with 2 Axes>"
      ]
     },
     "metadata": {},
     "output_type": "display_data"
    }
   ],
   "source": [
    "fig = plt.figure(figsize=(8, 3))\n",
    "grid = plt.GridSpec(1,2, wspace=0.3, hspace=1)\n",
    "\n",
    "ax1=plt.subplot(grid[0,0])\n",
    "ax2=plt.subplot(grid[0,1])\n",
    "\n",
    "for idx, geno in enumerate(np.unique(combined_df['Geno'])):\n",
    "    geno_color = c_dict[geno] # colors[genotype_colors[idx]] \n",
    "    \n",
    "    all_mean_data, all_yerr, diff_luminances, label = calculate_data_to_plot (plot_only_cat, cat_dict, combined_df, geno, polarity_dict, all_rois,tuning_c=tunings, mean_type='groups')\n",
    "    \n",
    "    ax1.errorbar(diff_luminances,all_mean_data,all_yerr,\n",
    "                 fmt='-o',alpha=.8,color=geno_color,label=label)\n",
    "    \n",
    "    \n",
    "    # AX2\n",
    "    all_mean_data, all_yerr, diff_luminances, label = calculate_data_to_plot (plot_only_cat, cat_dict, combined_df, geno, polarity_dict, all_rois,tuning_c=baselines, mean_type='groups')\n",
    "\n",
    "    ax2.errorbar(diff_luminances,all_mean_data,all_yerr,\n",
    "                 fmt='-o',alpha=.8,color=geno_color,label=label)\n",
    "    \n",
    "ax1.set_ylim((0,ax1.get_ylim()[1]))\n",
    "ax1.set_title('1Hz response')\n",
    "ax1.legend(loc=4)\n",
    "ax1.set_ylabel('Power (a.u.)')\n",
    "ax1.set_xlabel(_variable)\n",
    "\n",
    "ax2.set_ylim((0,ax2.get_ylim()[1]))\n",
    "ax2.set_title('Mean response')\n",
    "ax2.legend(loc=4)\n",
    "ax2.set_ylabel('dF/F')\n",
    "ax2.set_xlabel(_variable)\n",
    "\n",
    "\n",
    "save_name = 'Summary_1hz_mean_resp'.format(geno=geno)\n",
    "os.chdir(neuron_save_dir)\n",
    "plt.savefig('%s.pdf' % save_name, bbox_inches='tight',dpi=300) \n",
    "plt.show()"
   ]
  },
  {
   "cell_type": "code",
   "execution_count": 77,
   "id": "78722aec-cb25-4689-bcfc-4638f9059ef7",
   "metadata": {},
   "outputs": [
    {
     "ename": "NameError",
     "evalue": "name 'neuron_save_dir' is not defined",
     "output_type": "error",
     "traceback": [
      "\u001b[0;31m---------------------------------------------------------------------------\u001b[0m",
      "\u001b[0;31mNameError\u001b[0m                                 Traceback (most recent call last)",
      "\u001b[0;32m/tmp/ipykernel_9757/2979348599.py\u001b[0m in \u001b[0;36m<module>\u001b[0;34m\u001b[0m\n\u001b[1;32m     18\u001b[0m \u001b[0;34m\u001b[0m\u001b[0m\n\u001b[1;32m     19\u001b[0m \u001b[0msave_name\u001b[0m \u001b[0;34m=\u001b[0m \u001b[0;34m'Heat_map_mean_response_Tm9'\u001b[0m\u001b[0;34m.\u001b[0m\u001b[0mformat\u001b[0m\u001b[0;34m(\u001b[0m\u001b[0mgeno\u001b[0m\u001b[0;34m=\u001b[0m\u001b[0mgeno\u001b[0m\u001b[0;34m)\u001b[0m\u001b[0;34m\u001b[0m\u001b[0;34m\u001b[0m\u001b[0m\n\u001b[0;32m---> 20\u001b[0;31m \u001b[0mos\u001b[0m\u001b[0;34m.\u001b[0m\u001b[0mchdir\u001b[0m\u001b[0;34m(\u001b[0m\u001b[0mneuron_save_dir\u001b[0m\u001b[0;34m)\u001b[0m\u001b[0;34m\u001b[0m\u001b[0;34m\u001b[0m\u001b[0m\n\u001b[0m\u001b[1;32m     21\u001b[0m \u001b[0mplt\u001b[0m\u001b[0;34m.\u001b[0m\u001b[0msavefig\u001b[0m\u001b[0;34m(\u001b[0m\u001b[0;34m'%s.pdf'\u001b[0m \u001b[0;34m%\u001b[0m \u001b[0msave_name\u001b[0m\u001b[0;34m,\u001b[0m \u001b[0mbbox_inches\u001b[0m\u001b[0;34m=\u001b[0m\u001b[0;34m'tight'\u001b[0m\u001b[0;34m,\u001b[0m\u001b[0mdpi\u001b[0m\u001b[0;34m=\u001b[0m\u001b[0;36m300\u001b[0m\u001b[0;34m)\u001b[0m\u001b[0;34m\u001b[0m\u001b[0;34m\u001b[0m\u001b[0m\n",
      "\u001b[0;31mNameError\u001b[0m: name 'neuron_save_dir' is not defined"
     ]
    }
   ],
   "source": [
    "#Heat plots for mean response\n",
    "for idx, geno in enumerate(np.unique(combined_df['Geno'])):\n",
    "    if not(geno[:3] in ['L2_','L3_','Tm9','Tm1','Mi1']):\n",
    "        continue\n",
    "    \n",
    "    curr_neuron_mask = pag.plot_only_cat_params(plot_only_cat, cat_dict, combined_df, geno, polarity_dict)\n",
    "    curr_df = combined_df[curr_neuron_mask]\n",
    "    \n",
    "    mean_baselines = baselines[curr_neuron_mask]\n",
    "    \n",
    "    fig = plt.figure(figsize=(4, 6))\n",
    "    # Baseline tunings\n",
    "    plot_sens = (mean_baselines/mean_baselines.max(axis=1).reshape(mean_baselines.shape[0],1))\n",
    "    sns.heatmap(plot_sens,cmap='Reds',vmin=0,vmax=1)\n",
    "    plt.title('Mean responses {g}'.format(g=geno))\n",
    "    plt.ylabel('ROIs')\n",
    "    plt.xlabel('Epochs')\n",
    "    \n",
    "save_name = 'Heat_map_mean_response_Tm9'.format(geno=geno)\n",
    "os.chdir(neuron_save_dir)\n",
    "plt.savefig('%s.pdf' % save_name, bbox_inches='tight',dpi=300) "
   ]
  }
 ],
 "metadata": {
  "kernelspec": {
   "display_name": "Python 3 (ipykernel)",
   "language": "python",
   "name": "python3"
  },
  "language_info": {
   "codemirror_mode": {
    "name": "ipython",
    "version": 3
   },
   "file_extension": ".py",
   "mimetype": "text/x-python",
   "name": "python",
   "nbconvert_exporter": "python",
   "pygments_lexer": "ipython3",
   "version": "3.7.13"
  },
  "toc-autonumbering": false,
  "toc-showcode": false,
  "toc-showmarkdowntxt": false,
  "toc-showtags": false
 },
 "nbformat": 4,
 "nbformat_minor": 5
}
